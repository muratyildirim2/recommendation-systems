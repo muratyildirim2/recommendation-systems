{
 "cells": [
  {
   "cell_type": "code",
   "execution_count": 14,
   "id": "da796d10-bdde-4584-a5d8-346eb5a43659",
   "metadata": {},
   "outputs": [],
   "source": [
    "# Notebook: Matrix Factorization for Recommendation Systems\n",
    "\n",
    "import numpy as np\n",
    "import pandas as pd\n",
    "from sklearn.model_selection import train_test_split\n",
    "from sklearn.metrics import mean_squared_error\n",
    "\n",
    "# User and item data\n",
    "ratings_dict = {\n",
    "    \"user_id\": [1, 1, 1, 2, 2, 2, 3, 3, 3],\n",
    "    \"item_id\": [1, 2, 3, 1, 2, 3, 1, 2, 3],\n",
    "    \"rating\": [5, 3, 1, 4, 2, 1, 1, 5, 4]\n",
    "}\n",
    "\n",
    "ratings_df = pd.DataFrame(ratings_dict)"
   ]
  },
  {
   "cell_type": "code",
   "execution_count": 15,
   "id": "990b7068-4fa5-4b2c-888b-3ded71c5c06c",
   "metadata": {},
   "outputs": [],
   "source": [
    "R = ratings_df.pivot(index='user_id', columns='item_id', values='rating').fillna(0).values\n",
    "\n",
    "# 4. Matrix factorization\n",
    "def matrix_factorization(R, P, Q, K, steps=5000, alpha=0.0002, beta=0.02):\n",
    "    Q = Q.T  # Transpose Q to make it easier to work with in the dot product\n",
    "    for step in range(steps):  # Iterate over the number of steps\n",
    "        for i in range(len(R)):  # Iterate over each user\n",
    "            for j in range(len(R[i])):  # Iterate over each item\n",
    "                if R[i][j] > 0:  # Only consider observed ratings (> 0)\n",
    "                    eij = R[i][j] - np.dot(P[i,:],Q[:,j])  # Calculate the error of the prediction\n",
    "                    for k in range(K):  # Iterate over each latent feature (K = number of latents)\n",
    "                        P[i][k] = P[i][k] + alpha * (2 * eij * Q[k][j] - beta * P[i][k])  # Update the user feature matrix P \n",
    "                        Q[k][j] = Q[k][j] + alpha * (2 * eij * P[i][k] - beta * Q[k][j])  # Update the item feature matrix Q\n",
    "        eR = np.dot(P,Q)  # Calculate the predicted rating matrix\n",
    "        e = 0  # Initialize the total error\n",
    "        for i in range(len(R)):  # Iterate over each user\n",
    "            for j in range(len(R[i])):  # Iterate over each item\n",
    "                if R[i][j] > 0:  # Only consider observed ratings\n",
    "                    e = e + pow(R[i][j] - np.dot(P[i,:],Q[:,j]), 2)  # Add the squared error to the total error\n",
    "                    for k in range(K):  # Iterate over each latent feature\n",
    "                        e = e + (beta/2) * (pow(P[i][k],2) + pow(Q[k][j],2))  # Add regularization term to the total error\n",
    "        if e < 0.001:  # If the total error is less than the threshold, stop training\n",
    "            break\n",
    "    return P, Q.T  # Return the factorized matrices\n"
   ]
  },
  {
   "cell_type": "code",
   "execution_count": 16,
   "id": "367b6578-5263-4201-8063-8d22512302d4",
   "metadata": {},
   "outputs": [
    {
     "data": {
      "text/plain": [
       "array([[5, 3, 1],\n",
       "       [4, 2, 1],\n",
       "       [1, 5, 4]])"
      ]
     },
     "execution_count": 16,
     "metadata": {},
     "output_type": "execute_result"
    }
   ],
   "source": [
    "R"
   ]
  },
  {
   "cell_type": "code",
   "execution_count": 17,
   "id": "87852dd0-ef11-4ea6-a0cf-757e8f189d19",
   "metadata": {},
   "outputs": [
    {
     "name": "stdout",
     "output_type": "stream",
     "text": [
      "Orijinal Matris:\n",
      "[[5 3 1]\n",
      " [4 2 1]\n",
      " [1 5 4]]\n",
      "\n",
      "Faktörize Edilmiş Kullanıcı Matris (P):\n",
      "[[0.25520581 2.08290601]\n",
      " [0.14809115 1.63115699]\n",
      " [2.38341103 0.54968169]]\n",
      "\n",
      "Faktörize Edilmiş Öğe Matris (Q):\n",
      "[[-0.13767476  2.42461011]\n",
      " [ 1.82438371  1.15376998]\n",
      " [ 1.58578104  0.35619943]]\n",
      "\n",
      "Tahmin Edilen Matris:\n",
      "[[5.01509957 2.86878776 1.14663046]\n",
      " [3.9345313  2.15215506 0.81585733]\n",
      " [1.00462823 4.9824625  3.97536434]]\n",
      "\n",
      "RMSE: 0.10605390590471613\n"
     ]
    }
   ],
   "source": [
    "N = len(R)\n",
    "M = len(R[0])\n",
    "K = 2\n",
    "\n",
    "P = np.random.rand(N, K)\n",
    "Q = np.random.rand(M, K)\n",
    "\n",
    "nP, nQ = matrix_factorization(R, P, Q, K)\n",
    "nR = np.dot(nP, nQ.T)\n",
    "\n",
    "print(\"Orijinal Matris:\")\n",
    "print(R)\n",
    "print(\"\\nFaktörize Edilmiş Kullanıcı Matris (P):\")\n",
    "print(nP)\n",
    "print(\"\\nFaktörize Edilmiş Öğe Matris (Q):\")\n",
    "print(nQ)\n",
    "print(\"\\nTahmin Edilen Matris:\")\n",
    "print(nR)\n",
    "\n",
    "predicted_ratings = np.dot(nP, nQ.T)\n",
    "rmse = np.sqrt(mean_squared_error(R[R > 0], predicted_ratings[R > 0]))\n",
    "print(\"\\nRMSE:\", rmse)"
   ]
  }
 ],
 "metadata": {
  "kernelspec": {
   "display_name": "Python 3 (ipykernel)",
   "language": "python",
   "name": "python3"
  },
  "language_info": {
   "codemirror_mode": {
    "name": "ipython",
    "version": 3
   },
   "file_extension": ".py",
   "mimetype": "text/x-python",
   "name": "python",
   "nbconvert_exporter": "python",
   "pygments_lexer": "ipython3",
   "version": "3.11.7"
  }
 },
 "nbformat": 4,
 "nbformat_minor": 5
}
